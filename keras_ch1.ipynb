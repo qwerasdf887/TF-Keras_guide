{
 "cells": [
  {
   "cell_type": "markdown",
   "metadata": {},
   "source": [
    "> 整理自己對於Keras的用法以及心得，盡量詳細說明每個步驟  \n",
    "> 因為中文版的Keras教學太久沒更新有一些新的方法也會整理上來，主要內容來自於[Keras官方文檔](https://keras.io/)  \n",
    "> 若有任何錯誤請不令指正"
   ]
  },
  {
   "cell_type": "markdown",
   "metadata": {},
   "source": [
    "# **Keras建立Model很簡單**  \n",
    "使用Keras搭建model有兩種方法：  \n",
    "* Sequential Model：限制較多，如：多輸入多輸出、共享layer、非線性連接layer、單layer多輸入輸出等皆不適用。  \n",
    "* Functional API：靈活度極高的搭建Model方法。  \n",
    "\n",
    "**Model通常是有向無環圖(directed acyclic graph (DAG))**  \n",
    "\n",
    "本篇只有建立model，並無包含training、evaluation、inference"
   ]
  },
  {
   "cell_type": "code",
   "execution_count": 1,
   "metadata": {},
   "outputs": [
    {
     "name": "stdout",
     "output_type": "stream",
     "text": [
      "TensorFlow version: 2.2.0\n"
     ]
    }
   ],
   "source": [
    "#載入所需的lib\n",
    "import tensorflow as tf\n",
    "#TensorFlow若使用GPU預設會直接佔去9成RAM，所以透過命令更改使用多少就用多少\n",
    "gpus = tf.config.experimental.list_physical_devices(device_type='GPU')\n",
    "for gpu in gpus:\n",
    "    tf.config.experimental.set_memory_growth(gpu, True)\n",
    "print('TensorFlow version:', tf.__version__)"
   ]
  },
  {
   "cell_type": "markdown",
   "metadata": {},
   "source": [
    "## **Sequential Model**  \n",
    "使用Keras建立model就像搭積木一樣，一層一層依照自己預計的方式堆疊，完成之後就有許多便利的method使用。  \n",
    "更多細節用法參考[The Sequential model](https://keras.io/guides/sequential_model/)、[Sequential API](https://keras.io/api/models/sequential/)。"
   ]
  },
  {
   "cell_type": "code",
   "execution_count": 2,
   "metadata": {},
   "outputs": [],
   "source": [
    "#創建Sequential model與其中的layer\n",
    "\n",
    "#需要給定intput shape，有些情況下可以用None取代\n",
    "model = tf.keras.Sequential(\n",
    "    [\n",
    "        #輸入的dimension\n",
    "        tf.keras.Input(shape=(16,)),\n",
    "        #可選擇activation function，預設None，也可增加一層activation layer達到同樣效果\n",
    "        tf.keras.layers.Dense(64, activation='relu'),\n",
    "        # model或者layer皆可以給名稱\n",
    "        tf.keras.layers.Dense(10, name='last_layer')\n",
    "    ]\n",
    ")"
   ]
  },
  {
   "cell_type": "markdown",
   "metadata": {},
   "source": [
    "以上就簡單地完成了一個輸入為16-d輸出為10-d的model，可以透過`model.summary()`查看模型。"
   ]
  },
  {
   "cell_type": "code",
   "execution_count": 3,
   "metadata": {},
   "outputs": [
    {
     "name": "stdout",
     "output_type": "stream",
     "text": [
      "Model: \"sequential\"\n",
      "_________________________________________________________________\n",
      "Layer (type)                 Output Shape              Param #   \n",
      "=================================================================\n",
      "dense (Dense)                (None, 64)                1088      \n",
      "_________________________________________________________________\n",
      "last_layer (Dense)           (None, 10)                650       \n",
      "=================================================================\n",
      "Total params: 1,738\n",
      "Trainable params: 1,738\n",
      "Non-trainable params: 0\n",
      "_________________________________________________________________\n"
     ]
    }
   ],
   "source": [
    "model.summary()\n",
    "#可以看到最後一層的名稱變成\"last_layer\""
   ]
  },
  {
   "cell_type": "markdown",
   "metadata": {},
   "source": [
    "Sequential Model的另一種寫法"
   ]
  },
  {
   "cell_type": "code",
   "execution_count": 4,
   "metadata": {},
   "outputs": [],
   "source": [
    "model2 = tf.keras.Sequential()\n",
    "model2.add(tf.keras.Input(shape=(16,)))\n",
    "model2.add(tf.keras.layers.Dense(64))\n",
    "model2.add(tf.keras.layers.ReLU())\n",
    "model2.add(tf.keras.layers.Dense(10, name='last_layer'))"
   ]
  },
  {
   "cell_type": "markdown",
   "metadata": {},
   "source": [
    "這種方法等價於上面的方式，透過`.add()`一層一層疊加上去"
   ]
  },
  {
   "cell_type": "code",
   "execution_count": 5,
   "metadata": {},
   "outputs": [
    {
     "name": "stdout",
     "output_type": "stream",
     "text": [
      "Model: \"sequential_1\"\n",
      "_________________________________________________________________\n",
      "Layer (type)                 Output Shape              Param #   \n",
      "=================================================================\n",
      "dense_1 (Dense)              (None, 64)                1088      \n",
      "_________________________________________________________________\n",
      "re_lu (ReLU)                 (None, 64)                0         \n",
      "_________________________________________________________________\n",
      "last_layer (Dense)           (None, 10)                650       \n",
      "=================================================================\n",
      "Total params: 1,738\n",
      "Trainable params: 1,738\n",
      "Non-trainable params: 0\n",
      "_________________________________________________________________\n"
     ]
    }
   ],
   "source": [
    "model2.summary()"
   ]
  },
  {
   "cell_type": "markdown",
   "metadata": {},
   "source": [
    "## **Functional API**  \n",
    "使用**Functional API**也能做到與**Sequential model**相同的事情，甚至可以更靈活。  \n",
    "以下使用**Functional API**方式建立與上述相同的model。  \n",
    "更多詳細請查看[The Functional API](https://keras.io/guides/functional_api/)。"
   ]
  },
  {
   "cell_type": "code",
   "execution_count": 6,
   "metadata": {},
   "outputs": [
    {
     "name": "stdout",
     "output_type": "stream",
     "text": [
      "Model: \"Functional API\"\n",
      "_________________________________________________________________\n",
      "Layer (type)                 Output Shape              Param #   \n",
      "=================================================================\n",
      "input_1 (InputLayer)         [(None, 16)]              0         \n",
      "_________________________________________________________________\n",
      "dense (Dense)                (None, 64)                1088      \n",
      "_________________________________________________________________\n",
      "last_layer (Dense)           (None, 10)                650       \n",
      "=================================================================\n",
      "Total params: 1,738\n",
      "Trainable params: 1,738\n",
      "Non-trainable params: 0\n",
      "_________________________________________________________________\n"
     ]
    }
   ],
   "source": [
    "tf.keras.backend.clear_session()\n",
    "#使用Functional API方式與Sequential model幾乎相同\n",
    "\n",
    "#input layer\n",
    "inputs = tf.keras.Input(shape=(16,))\n",
    "#定義每一個layer\n",
    "dense_1 = tf.keras.layers.Dense(64, activation='relu')\n",
    "dense_2 = tf.keras.layers.Dense(10, name='last_layer')\n",
    "\n",
    "#設定tensor的穿越路徑\n",
    "x = dense_1(inputs)\n",
    "x = dense_2(x)\n",
    "\n",
    "#給定tensor的穿越路徑建立model\n",
    "model = tf.keras.Model(inputs=inputs, outputs=x, name='Functional API')\n",
    "model.summary()"
   ]
  },
  {
   "cell_type": "markdown",
   "metadata": {},
   "source": [
    "透過`tf.keras.Model()`定義了model的`inputs`與`outputs`，就可以自動形成model。  \n",
    "以下，另一種些法也可以搭建相同模型(一樣將activation function拉出來獨立一層)："
   ]
  },
  {
   "cell_type": "code",
   "execution_count": 7,
   "metadata": {},
   "outputs": [
    {
     "name": "stdout",
     "output_type": "stream",
     "text": [
      "Model: \"Functional API 2\"\n",
      "_________________________________________________________________\n",
      "Layer (type)                 Output Shape              Param #   \n",
      "=================================================================\n",
      "input_2 (InputLayer)         [(None, 16)]              0         \n",
      "_________________________________________________________________\n",
      "dense_1 (Dense)              (None, 64)                1088      \n",
      "_________________________________________________________________\n",
      "re_lu (ReLU)                 (None, 64)                0         \n",
      "_________________________________________________________________\n",
      "dense_2 (Dense)              (None, 10)                650       \n",
      "=================================================================\n",
      "Total params: 1,738\n",
      "Trainable params: 1,738\n",
      "Non-trainable params: 0\n",
      "_________________________________________________________________\n"
     ]
    }
   ],
   "source": [
    "#input layer\n",
    "inputs_2 = tf.keras.Input(shape=(16,))\n",
    "x = tf.keras.layers.Dense(64)(inputs_2)\n",
    "x = tf.keras.layers.ReLU()(x)\n",
    "x = tf.keras.layers.Dense(10)(x)\n",
    "\n",
    "model_2 = tf.keras.Model(inputs=inputs_2, outputs=x, name='Functional API 2')\n",
    "model_2.summary()"
   ]
  },
  {
   "cell_type": "markdown",
   "metadata": {},
   "source": [
    "以上這四個model皆等價，個人現在習慣使用**Functional API**，因為現在的模型越來越複雜，使用**Functional API**才有辦法實現。"
   ]
  },
  {
   "cell_type": "code",
   "execution_count": null,
   "metadata": {},
   "outputs": [],
   "source": []
  }
 ],
 "metadata": {
  "kernelspec": {
   "display_name": "Python 3",
   "language": "python",
   "name": "python3"
  },
  "language_info": {
   "codemirror_mode": {
    "name": "ipython",
    "version": 3
   },
   "file_extension": ".py",
   "mimetype": "text/x-python",
   "name": "python",
   "nbconvert_exporter": "python",
   "pygments_lexer": "ipython3",
   "version": "3.7.4"
  }
 },
 "nbformat": 4,
 "nbformat_minor": 4
}
