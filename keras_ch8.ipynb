{
 "cells": [
  {
   "cell_type": "markdown",
   "metadata": {},
   "source": [
    "# **Keras custom series-Model subclassing 搭建模型**  \n",
    "使用Keras搭建model除了之前提到的`Sequence`與`Model`方法，還可以使用`Model subclassing`方式搭建。  \n",
    "這其實就是將所有流程包裝成一個Model類，但是又可以有更高的靈活度(自定義訓練循環同時且享有`fit()`、`evaluation()`等等的method)。"
   ]
  },
  {
   "cell_type": "code",
   "execution_count": 1,
   "metadata": {},
   "outputs": [
    {
     "name": "stdout",
     "output_type": "stream",
     "text": [
      "TensorFlow version: 2.2.0\n"
     ]
    }
   ],
   "source": [
    "#載入所需lib\n",
    "import numpy as np\n",
    "import tensorflow as tf\n",
    "gpus = tf.config.experimental.list_physical_devices(device_type='GPU')\n",
    "for gpu in gpus:\n",
    "    tf.config.experimental.set_memory_growth(gpu, True)\n",
    "print('TensorFlow version:', tf.__version__)"
   ]
  },
  {
   "cell_type": "markdown",
   "metadata": {},
   "source": [
    "## **最基本的用法**  \n",
    "有點類似custom layer，在`__init__`中宣告用到的layer，在`call`中處理過程。"
   ]
  },
  {
   "cell_type": "code",
   "execution_count": 2,
   "metadata": {},
   "outputs": [],
   "source": [
    "class MNIST(tf.keras.Model):\n",
    "    def __init__(self):\n",
    "        super(MNIST, self).__init__()\n",
    "        self.conv_1 = tf.keras.layers.Conv2D(32, kernel_size=(3, 3), activation='relu')\n",
    "        self.max_pool_1 = tf.keras.layers.MaxPooling2D()\n",
    "        self.conv_2 = tf.keras.layers.Conv2D(64, kernel_size=(3, 3), activation='relu')\n",
    "        self.max_pool_2 = tf.keras.layers.MaxPooling2D()\n",
    "        self.flatten = tf.keras.layers.Flatten()\n",
    "        self.drop = tf.keras.layers.Dropout(0.5)\n",
    "        self.out = tf.keras.layers.Dense(10, activation='softmax')\n",
    "    \n",
    "    def call(self, inupts):\n",
    "        x = self.conv_1(inupts)\n",
    "        x = self.max_pool_1(x)\n",
    "        x = self.conv_2(x)\n",
    "        x = self.max_pool_2(x)\n",
    "        x = self.flatten(x)\n",
    "        x = self.drop(x)\n",
    "        return self.out(x)"
   ]
  },
  {
   "cell_type": "markdown",
   "metadata": {},
   "source": [
    "這樣就定義好了一個model，可以使用`fit()`來訓練。"
   ]
  },
  {
   "cell_type": "code",
   "execution_count": 3,
   "metadata": {},
   "outputs": [],
   "source": [
    "mnist = MNIST()\n",
    "\n",
    "#download MNIST dataset\n",
    "(x_train, y_train), (x_test, y_test) = tf.keras.datasets.mnist.load_data()\n",
    "x_train = x_train.astype('float32') / 255\n",
    "y_train = y_train.astype('float32')\n",
    "x_test = x_test.astype('float32') / 255\n",
    "y_test = y_test.astype('float32')\n",
    "x_train = np.expand_dims(x_train, -1)\n",
    "y_train = np.expand_dims(y_train, -1)\n",
    "x_test = np.expand_dims(x_test, -1)\n",
    "y_test = np.expand_dims(y_test, -1)"
   ]
  },
  {
   "cell_type": "code",
   "execution_count": 4,
   "metadata": {},
   "outputs": [
    {
     "name": "stdout",
     "output_type": "stream",
     "text": [
      "Epoch 1/10\n",
      "422/422 [==============================] - 2s 4ms/step - loss: 0.3638 - sparse_categorical_accuracy: 0.8916 - val_loss: 0.0863 - val_sparse_categorical_accuracy: 0.9767\n",
      "Epoch 2/10\n",
      "422/422 [==============================] - 2s 4ms/step - loss: 0.1126 - sparse_categorical_accuracy: 0.9660 - val_loss: 0.0587 - val_sparse_categorical_accuracy: 0.9847\n",
      "Epoch 3/10\n",
      "422/422 [==============================] - 2s 4ms/step - loss: 0.0847 - sparse_categorical_accuracy: 0.9739 - val_loss: 0.0483 - val_sparse_categorical_accuracy: 0.9858\n",
      "Epoch 4/10\n",
      "422/422 [==============================] - 2s 4ms/step - loss: 0.0709 - sparse_categorical_accuracy: 0.9786 - val_loss: 0.0405 - val_sparse_categorical_accuracy: 0.9897\n",
      "Epoch 5/10\n",
      "422/422 [==============================] - 2s 4ms/step - loss: 0.0628 - sparse_categorical_accuracy: 0.9810 - val_loss: 0.0406 - val_sparse_categorical_accuracy: 0.9877\n",
      "Epoch 6/10\n",
      "422/422 [==============================] - 2s 4ms/step - loss: 0.0573 - sparse_categorical_accuracy: 0.9820 - val_loss: 0.0338 - val_sparse_categorical_accuracy: 0.9912\n",
      "Epoch 7/10\n",
      "422/422 [==============================] - 2s 4ms/step - loss: 0.0509 - sparse_categorical_accuracy: 0.9848 - val_loss: 0.0355 - val_sparse_categorical_accuracy: 0.9893\n",
      "Epoch 8/10\n",
      "422/422 [==============================] - 2s 4ms/step - loss: 0.0480 - sparse_categorical_accuracy: 0.9852 - val_loss: 0.0362 - val_sparse_categorical_accuracy: 0.9875\n",
      "Epoch 9/10\n",
      "422/422 [==============================] - 2s 4ms/step - loss: 0.0445 - sparse_categorical_accuracy: 0.9862 - val_loss: 0.0341 - val_sparse_categorical_accuracy: 0.9907\n",
      "Epoch 10/10\n",
      "422/422 [==============================] - 2s 4ms/step - loss: 0.0418 - sparse_categorical_accuracy: 0.9869 - val_loss: 0.0310 - val_sparse_categorical_accuracy: 0.9918\n"
     ]
    }
   ],
   "source": [
    "mnist.compile(\n",
    "    loss='sparse_categorical_crossentropy',\n",
    "    optimizer='adam',\n",
    "    metrics=['sparse_categorical_accuracy']\n",
    ")\n",
    "history = mnist.fit(x_train, y_train, batch_size=128, epochs=10, validation_split=0.1)"
   ]
  },
  {
   "cell_type": "code",
   "execution_count": 5,
   "metadata": {},
   "outputs": [
    {
     "name": "stdout",
     "output_type": "stream",
     "text": [
      "313/313 [==============================] - 1s 2ms/step - loss: 0.0282 - sparse_categorical_accuracy: 0.9906\n",
      "test loss:0.0282\n",
      "test accuracy:99.0600%\n"
     ]
    }
   ],
   "source": [
    "score = mnist.evaluate(x_test, y_test)\n",
    "print('test loss:{:03.4f}'.format(score[0]))\n",
    "print('test accuracy:{:3.4f}%'.format(score[1] * 100))"
   ]
  },
  {
   "cell_type": "markdown",
   "metadata": {},
   "source": [
    "## **總結**\n",
    "`Model class`最主要的另一個用途是自定義循環，修改`train_step`，將在下一篇演示。  \n",
    "這幾種搭建model方式，個人還是偏好使用`Functional API`串接，使用上感覺比較直覺。"
   ]
  },
  {
   "cell_type": "code",
   "execution_count": null,
   "metadata": {},
   "outputs": [],
   "source": []
  }
 ],
 "metadata": {
  "kernelspec": {
   "display_name": "Python 3",
   "language": "python",
   "name": "python3"
  },
  "language_info": {
   "codemirror_mode": {
    "name": "ipython",
    "version": 3
   },
   "file_extension": ".py",
   "mimetype": "text/x-python",
   "name": "python",
   "nbconvert_exporter": "python",
   "pygments_lexer": "ipython3",
   "version": "3.7.4"
  }
 },
 "nbformat": 4,
 "nbformat_minor": 4
}
