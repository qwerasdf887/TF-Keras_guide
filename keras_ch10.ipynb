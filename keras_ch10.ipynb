{
 "cells": [
  {
   "cell_type": "markdown",
   "metadata": {},
   "source": [
    "# **Keras輸入資料的方法-tf.data**  \n",
    "使用tf.data API建立輸入資料的方法。"
   ]
  },
  {
   "cell_type": "code",
   "execution_count": 1,
   "metadata": {},
   "outputs": [
    {
     "name": "stdout",
     "output_type": "stream",
     "text": [
      "TensorFlow version: 2.2.0\n"
     ]
    }
   ],
   "source": [
    "import tensorflow as tf\n",
    "gpus = tf.config.experimental.list_physical_devices(device_type='GPU')\n",
    "for gpu in gpus:\n",
    "    tf.config.experimental.set_memory_growth(gpu, True)\n",
    "print('TensorFlow version:', tf.__version__)\n",
    "#畫圖的lib\n",
    "import matplotlib.pyplot as plt\n",
    "import numpy as np\n",
    "import imgaug.augmenters as iaa\n",
    "import cv2\n",
    "import pathlib\n",
    "import os"
   ]
  },
  {
   "cell_type": "markdown",
   "metadata": {},
   "source": [
    "`tf.data`是Tensorflow推薦的輸入資料方法，這邊只演示目前已經了解的方法。  \n",
    "更多其他應用請查閱[tf.data](https://www.tensorflow.org/guide/data)。"
   ]
  },
  {
   "cell_type": "markdown",
   "metadata": {},
   "source": [
    "## **建立tf.data.Dataset**  \n",
    "使用`tf.data.Dataset.From_tensor_slices()`形成dataset。  \n",
    "最簡單的方式就是使用`python list`。"
   ]
  },
  {
   "cell_type": "code",
   "execution_count": 2,
   "metadata": {},
   "outputs": [
    {
     "data": {
      "text/plain": [
       "<TensorSliceDataset shapes: (), types: tf.int32>"
      ]
     },
     "execution_count": 2,
     "metadata": {},
     "output_type": "execute_result"
    }
   ],
   "source": [
    "dataset = tf.data.Dataset.from_tensor_slices([1,2,3,4,5,6])\n",
    "dataset"
   ]
  },
  {
   "cell_type": "markdown",
   "metadata": {},
   "source": [
    "可以使用`for`或者使用`iter`來查看當中的資料。"
   ]
  },
  {
   "cell_type": "code",
   "execution_count": 3,
   "metadata": {},
   "outputs": [
    {
     "name": "stdout",
     "output_type": "stream",
     "text": [
      "1,2,3,4,5,6,"
     ]
    }
   ],
   "source": [
    "for elem in dataset:\n",
    "    print(elem.numpy(), end=',')"
   ]
  },
  {
   "cell_type": "code",
   "execution_count": 4,
   "metadata": {},
   "outputs": [
    {
     "name": "stdout",
     "output_type": "stream",
     "text": [
      "1\n"
     ]
    }
   ],
   "source": [
    "elem = iter(dataset)\n",
    "print(next(elem).numpy())"
   ]
  },
  {
   "cell_type": "markdown",
   "metadata": {},
   "source": [
    "可以使用`element_spec`查看dataset傳出的shape以及type。"
   ]
  },
  {
   "cell_type": "code",
   "execution_count": 5,
   "metadata": {},
   "outputs": [
    {
     "data": {
      "text/plain": [
       "TensorSpec(shape=(), dtype=tf.int32, name=None)"
      ]
     },
     "execution_count": 5,
     "metadata": {},
     "output_type": "execute_result"
    }
   ],
   "source": [
    "dataset.element_spec"
   ]
  },
  {
   "cell_type": "markdown",
   "metadata": {},
   "source": [
    "與python中的`zip`相同，可以透過`zip`組合不同的dataset，但是batch數要相同，不同的情況下會以最少的為準。"
   ]
  },
  {
   "cell_type": "code",
   "execution_count": 6,
   "metadata": {},
   "outputs": [],
   "source": [
    "dataset2 = tf.data.Dataset.from_tensor_slices([6,5,4,3,2, 1])\n",
    "dataset3 = tf.data.Dataset.zip((dataset, dataset2))"
   ]
  },
  {
   "cell_type": "code",
   "execution_count": 7,
   "metadata": {},
   "outputs": [
    {
     "name": "stdout",
     "output_type": "stream",
     "text": [
      "1 6\n",
      "2 5\n",
      "3 4\n",
      "4 3\n",
      "5 2\n",
      "6 1\n"
     ]
    }
   ],
   "source": [
    "for i in dataset3:\n",
    "    first, second = i\n",
    "    print(first.numpy(), second.numpy())"
   ]
  },
  {
   "cell_type": "markdown",
   "metadata": {},
   "source": [
    "或者在一開始的時候就組合起來建立dataset。"
   ]
  },
  {
   "cell_type": "code",
   "execution_count": 8,
   "metadata": {},
   "outputs": [
    {
     "name": "stdout",
     "output_type": "stream",
     "text": [
      "1 6\n",
      "2 5\n",
      "3 4\n",
      "4 3\n",
      "5 2\n",
      "6 1\n"
     ]
    }
   ],
   "source": [
    "dataset4 = tf.data.Dataset.from_tensor_slices(([1,2,3,4,5,6], [6,5,4,3,2, 1]))\n",
    "for i in dataset4:\n",
    "    first, second = i\n",
    "    print(first.numpy(), second.numpy())"
   ]
  },
  {
   "cell_type": "markdown",
   "metadata": {},
   "source": [
    "### **tf.data.Dataset細節處理**  \n",
    "訓練model時的`batch`、`shuffle`等等的處理。"
   ]
  },
  {
   "cell_type": "markdown",
   "metadata": {},
   "source": [
    "#### batch：將data切batch的方法"
   ]
  },
  {
   "cell_type": "code",
   "execution_count": 9,
   "metadata": {},
   "outputs": [
    {
     "name": "stdout",
     "output_type": "stream",
     "text": [
      "[0 1 2 3 4 5 6 7 8 9]\n",
      "[10 11 12 13 14 15 16 17 18 19]\n",
      "[20 21 22 23 24 25 26 27 28 29]\n",
      "[30 31 32 33 34 35 36 37 38 39]\n"
     ]
    }
   ],
   "source": [
    "inc_dataset = tf.data.Dataset.range(40)\n",
    "inc_dataset = inc_dataset.batch(10)\n",
    "\n",
    "for i in inc_dataset:\n",
    "    print(i.numpy())"
   ]
  },
  {
   "cell_type": "markdown",
   "metadata": {},
   "source": [
    "若資料數量無法整除batch size，則最後一次batch size將會是餘數。"
   ]
  },
  {
   "cell_type": "code",
   "execution_count": 10,
   "metadata": {},
   "outputs": [
    {
     "name": "stdout",
     "output_type": "stream",
     "text": [
      "[0 1 2 3]\n",
      "[4 5 6 7]\n",
      "[8 9]\n"
     ]
    }
   ],
   "source": [
    "inc_dataset = tf.data.Dataset.range(10)\n",
    "inc_dataset = inc_dataset.batch(4)\n",
    "\n",
    "for i in inc_dataset:\n",
    "    print(i.numpy())"
   ]
  },
  {
   "cell_type": "markdown",
   "metadata": {},
   "source": [
    "若是想要捨棄未完整的batch，則加入`drop_remainder=True`參數。"
   ]
  },
  {
   "cell_type": "code",
   "execution_count": 11,
   "metadata": {},
   "outputs": [
    {
     "name": "stdout",
     "output_type": "stream",
     "text": [
      "[0 1 2 3]\n",
      "[4 5 6 7]\n"
     ]
    }
   ],
   "source": [
    "inc_dataset = tf.data.Dataset.range(10)\n",
    "inc_dataset = inc_dataset.batch(4, drop_remainder=True)\n",
    "\n",
    "for i in inc_dataset:\n",
    "    print(i.numpy())"
   ]
  },
  {
   "cell_type": "markdown",
   "metadata": {},
   "source": [
    "#### repeat：將dataset重複，若未帶入參數則無限循環。"
   ]
  },
  {
   "cell_type": "code",
   "execution_count": 12,
   "metadata": {},
   "outputs": [
    {
     "name": "stdout",
     "output_type": "stream",
     "text": [
      "[0 1 2 3 4]\n",
      "[5 6 7 8 9]\n",
      "[0 1 2 3 4]\n",
      "[5 6 7 8 9]\n"
     ]
    }
   ],
   "source": [
    "inc_dataset = tf.data.Dataset.range(10)\n",
    "inc_dataset = inc_dataset.repeat(2)\n",
    "inc_dataset = inc_dataset.batch(5)\n",
    "\n",
    "for i in inc_dataset:\n",
    "    print(i.numpy())"
   ]
  },
  {
   "cell_type": "markdown",
   "metadata": {},
   "source": [
    "#### shuffle：打散data  \n",
    "在tf.data的shuffle中，並不是整個資料打散，會有一個buffer存放資料，然後在從buffer中隨機提取。  \n",
    "所以在下方例子中，`buffer_size=20`則取出的index不會超過(Nth*batchsize+20)。"
   ]
  },
  {
   "cell_type": "code",
   "execution_count": 13,
   "metadata": {},
   "outputs": [
    {
     "name": "stdout",
     "output_type": "stream",
     "text": [
      "[12  5 16  7  8 22 14  1 27  6]\n",
      "[28 13 20  9 29 31 30  0 32 26]\n",
      "[24 15 18  3 37 11 34 25 19 33]\n",
      "[17 39  2  4 38 36 21 10 23 35]\n"
     ]
    }
   ],
   "source": [
    "inc_dataset = tf.data.Dataset.range(40)\n",
    "inc_dataset = inc_dataset.shuffle(buffer_size=20).batch(10)\n",
    "for i in inc_dataset:\n",
    "    print(i.numpy())"
   ]
  },
  {
   "cell_type": "markdown",
   "metadata": {},
   "source": [
    "#### prefetch：預取多少量的資料  \n",
    "dataset.prefetch(2)：預取兩筆資料  \n",
    "dataset.batch(10).prefetch(2)：預取兩個batch，共20筆資料  \n",
    "可以將參數設定為**`tf.data.experimental.AUTOTUNE`**，則會自動選擇最優的數字。"
   ]
  },
  {
   "cell_type": "markdown",
   "metadata": {},
   "source": [
    "### **`batch`**、**`repeat`**、**`shuffle`**的順序會影響輸出的結果  \n",
    "更多細節查閱[Training workflows](https://www.tensorflow.org/guide/data#training_workflows)，有圖文說明。"
   ]
  },
  {
   "cell_type": "markdown",
   "metadata": {},
   "source": [
    "### **`.map()`**與**`.py_function()`**  \n",
    "#### map()：  \n",
    "可以對資料進行處理，但是只能使用tf提供的API。  \n",
    "建議將`num_parallel_calls`參數設定為`tf.data.experimental.AUTOTUNE`使用多核心進行資料轉換，才不會因為轉換時間造成GPU idle。  \n",
    "#### py_function()：  \n",
    "若處理需要進行一些python方式，則需使用這個API包裝。  \n",
    "最後使用flower dataset，完整的使用以上這些API進行training。"
   ]
  },
  {
   "cell_type": "code",
   "execution_count": 14,
   "metadata": {},
   "outputs": [
    {
     "name": "stdout",
     "output_type": "stream",
     "text": [
      "Downloading data from https://storage.googleapis.com/download.tensorflow.org/example_images/flower_photos.tgz\n",
      "228818944/228813984 [==============================] - 62s 0us/step\n"
     ]
    }
   ],
   "source": [
    "# download dataset\n",
    "flowers_root = tf.keras.utils.get_file(\n",
    "    'flower_photos',\n",
    "    'https://storage.googleapis.com/download.tensorflow.org/example_images/flower_photos.tgz',\n",
    "    untar=True)\n",
    "flowers_root = pathlib.Path(flowers_root)\n",
    "\n",
    "flowers_name = ['daisy', 'dandelion', 'roses', 'sunflowers', 'tulips']\n",
    "\n",
    "# data augmentation API\n",
    "aug = iaa.Sequential(\n",
    "    [iaa.RandAugment(n=2, m=9),\n",
    "     iaa.Resize({'longer-side': 224, 'shorter-side': 'keep-aspect-ratio'}),\n",
    "     iaa.PadToSquare()\n",
    "    ])"
   ]
  },
  {
   "cell_type": "code",
   "execution_count": 15,
   "metadata": {},
   "outputs": [],
   "source": [
    "# 使用tf.data.Dataset.list_files載入路徑資料\n",
    "# 預設會隨機輸出，若想固定輸出順序，則加入shuffle=False參數\n",
    "list_ds = tf.data.Dataset.list_files(str(flowers_root/'*/*.jpg'))"
   ]
  },
  {
   "cell_type": "code",
   "execution_count": 16,
   "metadata": {},
   "outputs": [],
   "source": [
    "def get_label(name):\n",
    "    label = flowers_name.index(name.numpy().decode('UTF-8'))\n",
    "    return label\n",
    "\n",
    "def aug_img(image):\n",
    "    image = aug(image=image.numpy())\n",
    "    return image\n",
    "\n",
    "# 依照路徑資料進行處理\n",
    "def process_path(path):\n",
    "    # 取出檔名\n",
    "    name = tf.strings.split(path, os.sep)[-2]\n",
    "    # 找出對應的index\n",
    "    label = tf.py_function(get_label, [name], tf.float32)\n",
    "    # 載入圖片\n",
    "    image = tf.io.read_file(path)\n",
    "    image = tf.image.decode_jpeg(image)\n",
    "    image = tf.py_function(aug_img, [image], tf.uint8)\n",
    "    # 轉換成float32以及normalize\n",
    "    image = tf.image.convert_image_dtype(image, tf.float32)\n",
    "    \n",
    "    return image, label"
   ]
  },
  {
   "cell_type": "code",
   "execution_count": 17,
   "metadata": {},
   "outputs": [],
   "source": [
    "# 使用.map進行轉換\n",
    "train_data = list_ds.map(process_path, num_parallel_calls=tf.data.experimental.AUTOTUNE)"
   ]
  },
  {
   "cell_type": "code",
   "execution_count": 18,
   "metadata": {},
   "outputs": [
    {
     "data": {
      "image/png": "[encoded data removed]",
      "text/plain": [
       "<Figure size 432x288 with 1 Axes>"
      ]
     },
     "metadata": {
      "needs_background": "light"
     },
     "output_type": "display_data"
    }
   ],
   "source": [
    "# show image\n",
    "for image, label in train_data.take(1):\n",
    "    #print(image)\n",
    "    plt.figure()\n",
    "    plt.imshow(image.numpy())\n",
    "    plt.axis('off')"
   ]
  },
  {
   "cell_type": "code",
   "execution_count": 19,
   "metadata": {},
   "outputs": [],
   "source": [
    "# total data \n",
    "total_data = 3670\n",
    "batch_size = 64\n",
    "\n",
    "train_data = train_data.batch(batch_size).repeat().prefetch(tf.data.experimental.AUTOTUNE)\n",
    "\n",
    "# creat mobilenet model\n",
    "model = tf.keras.applications.MobileNetV2(weights=None, classes=5)\n",
    "model.compile(\n",
    "    optimizer = tf.keras.optimizers.Adam(),\n",
    "    loss=tf.keras.losses.SparseCategoricalCrossentropy(),\n",
    "    metrics=tf.keras.metrics.SparseCategoricalAccuracy())"
   ]
  },
  {
   "cell_type": "code",
   "execution_count": 20,
   "metadata": {},
   "outputs": [
    {
     "name": "stdout",
     "output_type": "stream",
     "text": [
      "Epoch 1/5\n",
      "57/57 [==============================] - 18s 309ms/step - loss: 1.6132 - sparse_categorical_accuracy: 0.2966\n",
      "Epoch 2/5\n",
      "57/57 [==============================] - 18s 311ms/step - loss: 1.3899 - sparse_categorical_accuracy: 0.4132\n",
      "Epoch 3/5\n",
      "57/57 [==============================] - 18s 312ms/step - loss: 1.2993 - sparse_categorical_accuracy: 0.4723\n",
      "Epoch 4/5\n",
      "57/57 [==============================] - 17s 302ms/step - loss: 1.1729 - sparse_categorical_accuracy: 0.5238\n",
      "Epoch 5/5\n",
      "57/57 [==============================] - 17s 303ms/step - loss: 1.0917 - sparse_categorical_accuracy: 0.5691\n"
     ]
    },
    {
     "data": {
      "text/plain": [
       "<tensorflow.python.keras.callbacks.History at 0x2577673e208>"
      ]
     },
     "execution_count": 20,
     "metadata": {},
     "output_type": "execute_result"
    }
   ],
   "source": [
    "model.fit(train_data, epochs=5, steps_per_epoch=total_data//batch_size)"
   ]
  },
  {
   "cell_type": "markdown",
   "metadata": {},
   "source": [
    "## **總結**  \n",
    "使用tf.data.Dataset上有一些順序的問題要注意，以及，若是使用`fit()`來進行訓練的話也有幾個細節：  \n",
    "+ 若在Dataset中設定好`repeat(n)`，則在`fit()`中直接放入Dataset即可，不用再額外設定epochs，因為實際上會造成訓練**epochs*n**次epochs。  \n",
    "+ 若使用`repeat()`無限循環，則須在`fit()`中指定`steps_per_epoch`參數，告知model一次epoch有幾個step。  \n",
    "+ `list_files()`將會隨機輸出順序，若不需要則設定參數`shuffle=False`。"
   ]
  },
  {
   "cell_type": "code",
   "execution_count": null,
   "metadata": {},
   "outputs": [],
   "source": []
  }
 ],
 "metadata": {
  "kernelspec": {
   "display_name": "Python 3",
   "language": "python",
   "name": "python3"
  },
  "language_info": {
   "codemirror_mode": {
    "name": "ipython",
    "version": 3
   },
   "file_extension": ".py",
   "mimetype": "text/x-python",
   "name": "python",
   "nbconvert_exporter": "python",
   "pygments_lexer": "ipython3",
   "version": "3.7.4"
  }
 },
 "nbformat": 4,
 "nbformat_minor": 4
}
