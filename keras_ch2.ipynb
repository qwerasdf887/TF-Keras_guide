{
 "cells": [
  {
   "cell_type": "markdown",
   "metadata": {},
   "source": [
    "# 使用Keras model搭建第一個model-MNIST手寫字體分類  \n",
    ">有些稍微基礎知識就先行跳過，本篇主旨在如何搭建一個model並且進行training、evaluation、inference"
   ]
  },
  {
   "cell_type": "code",
   "execution_count": 1,
   "metadata": {},
   "outputs": [
    {
     "name": "stdout",
     "output_type": "stream",
     "text": [
      "TensorFlow version: 2.2.0\n"
     ]
    }
   ],
   "source": [
    "#載入所需lib\n",
    "import numpy as np\n",
    "import tensorflow as tf\n",
    "gpus = tf.config.experimental.list_physical_devices(device_type='GPU')\n",
    "for gpu in gpus:\n",
    "    tf.config.experimental.set_memory_growth(gpu, True)\n",
    "print('TensorFlow version:', tf.__version__)\n",
    "#畫圖的lib\n",
    "import matplotlib.pyplot as plt"
   ]
  },
  {
   "cell_type": "markdown",
   "metadata": {},
   "source": [
    "MNIST是一個手寫數字的dataset，使用keras相關function就能下載。  \n",
    "下載位置預設在`user/.keras/datasets/`裡面。"
   ]
  },
  {
   "cell_type": "code",
   "execution_count": 2,
   "metadata": {},
   "outputs": [
    {
     "name": "stdout",
     "output_type": "stream",
     "text": [
      "x_train\n",
      "shape:(60000, 28, 28),data type:uint8\n",
      "y_train\n",
      "shape:(60000,),data type:uint8\n",
      "x_test\n",
      "shape:(10000, 28, 28),data type:uint8\n",
      "y_test\n",
      "shape:(10000,),data type:uint8\n"
     ]
    }
   ],
   "source": [
    "#download MNIST dataset\n",
    "(x_train, y_train), (x_test, y_test) = tf.keras.datasets.mnist.load_data()\n",
    "\n",
    "print('x_train\\nshape:{},data type:{}'.format(x_train.shape, x_train.dtype))\n",
    "print('y_train\\nshape:{},data type:{}'.format(y_train.shape, y_train.dtype))\n",
    "print('x_test\\nshape:{},data type:{}'.format(x_test.shape, x_test.dtype))\n",
    "print('y_test\\nshape:{},data type:{}'.format(y_test.shape, y_test.dtype))"
   ]
  },
  {
   "cell_type": "markdown",
   "metadata": {},
   "source": [
    "training data 總共有60000筆 28*28 的灰階影像，testing data共有10000筆相同大小的影像。  \n",
    "每個影像分別有對應的label，接下來利用這些training data訓練模型，testing data評估模型。"
   ]
  },
  {
   "cell_type": "code",
   "execution_count": 3,
   "metadata": {},
   "outputs": [
    {
     "data": {
      "image/png": "[encoded data removed]",
      "text/plain": [
       "<Figure size 432x432 with 9 Axes>"
      ]
     },
     "metadata": {
      "needs_background": "light"
     },
     "output_type": "display_data"
    }
   ],
   "source": [
    "#輸出前九個影像以及label\n",
    "plt.figure(figsize=(6, 6))\n",
    "for i, (images, labels) in enumerate(zip(x_train[0:9], y_train[0:9])):\n",
    "    plt.subplot(3,3, i+1)\n",
    "    plt.imshow(images, cmap='gray')\n",
    "    plt.title('label:{}'.format(labels))\n",
    "    plt.axis('off')"
   ]
  },
  {
   "cell_type": "code",
   "execution_count": 4,
   "metadata": {},
   "outputs": [
    {
     "name": "stdout",
     "output_type": "stream",
     "text": [
      "Model: \"model\"\n",
      "_________________________________________________________________\n",
      "Layer (type)                 Output Shape              Param #   \n",
      "=================================================================\n",
      "input_1 (InputLayer)         [(None, 28, 28, 1)]       0         \n",
      "_________________________________________________________________\n",
      "conv2d (Conv2D)              (None, 26, 26, 32)        320       \n",
      "_________________________________________________________________\n",
      "max_pooling2d (MaxPooling2D) (None, 13, 13, 32)        0         \n",
      "_________________________________________________________________\n",
      "conv2d_1 (Conv2D)            (None, 11, 11, 64)        18496     \n",
      "_________________________________________________________________\n",
      "max_pooling2d_1 (MaxPooling2 (None, 5, 5, 64)          0         \n",
      "_________________________________________________________________\n",
      "flatten (Flatten)            (None, 1600)              0         \n",
      "_________________________________________________________________\n",
      "dropout (Dropout)            (None, 1600)              0         \n",
      "_________________________________________________________________\n",
      "dense (Dense)                (None, 10)                16010     \n",
      "=================================================================\n",
      "Total params: 34,826\n",
      "Trainable params: 34,826\n",
      "Non-trainable params: 0\n",
      "_________________________________________________________________\n"
     ]
    }
   ],
   "source": [
    "#input layer(使用Conv2D需要3維(h, w, c)，所以上方只有(28, 28)需做處理變成(28, 28, 1)\n",
    "inputs = tf.keras.Input(shape=(28, 28, 1))\n",
    "\n",
    "# model layer\n",
    "conv_1 = tf.keras.layers.Conv2D(32, kernel_size=(3, 3), activation='relu')\n",
    "max_pool_1 = tf.keras.layers.MaxPooling2D()\n",
    "conv_2 = tf.keras.layers.Conv2D(64, kernel_size=(3, 3), activation='relu')\n",
    "max_pool_2 = tf.keras.layers.MaxPooling2D()\n",
    "flatten = tf.keras.layers.Flatten()\n",
    "drop = tf.keras.layers.Dropout(0.5)\n",
    "output = tf.keras.layers.Dense(10, activation='softmax')\n",
    "\n",
    "# path\n",
    "x = conv_1(inputs)\n",
    "x = max_pool_1(x)\n",
    "x = conv_2(x)\n",
    "x = max_pool_2(x)\n",
    "x = flatten(x)\n",
    "x = drop(x)\n",
    "x = output(x)\n",
    "\n",
    "model = tf.keras.Model(inputs=inputs, outputs=x)\n",
    "model.summary()"
   ]
  },
  {
   "cell_type": "markdown",
   "metadata": {},
   "source": [
    "這樣建立了一個輸入是(batch size, 28, 28, 1)的Tensor與輸出是(batch size, 10)的model。  \n",
    "通常label單類別最後使用`softmax`當作activation，多類別用`sigmoid`。  \n",
    "model建立好之後就可以使用提供的`fit()`、`predict()`、`evaluation()` method。"
   ]
  },
  {
   "cell_type": "markdown",
   "metadata": {},
   "source": [
    "## Training model\n",
    "在訓練模型之前，需要使用`model.compile(...)`設定好`loss function`、`optimizer`等東西。  \n",
    "**loss function**：也叫做objective function，用來衡量**預測**與**實際**之間的差距。若選用錯的loss function可能導致model無法收斂。  \n",
    "**optimizer**：調整model裡面參數的工具，裡面參數設置的好壞也直接影響model結果。  \n",
    "Keras內建提供許多選用，詳細資料請查閱[loss function](https://keras.io/api/losses/)、[optimizer](https://keras.io/api/optimizers/)"
   ]
  },
  {
   "cell_type": "code",
   "execution_count": 5,
   "metadata": {},
   "outputs": [],
   "source": [
    "#compile model\n",
    "#sparse_categorical_crossentropy:可以直接對應數字，而不用轉換成one-hot encoding\n",
    "#有些內建的function可以直接輸入名稱帶入，不然就得放置相應的function\n",
    "model.compile(\n",
    "    loss='sparse_categorical_crossentropy',\n",
    "    optimizer='adam',\n",
    "    metrics=['sparse_categorical_accuracy']\n",
    ")"
   ]
  },
  {
   "cell_type": "markdown",
   "metadata": {},
   "source": [
    "將training資料進行一些處理(normalize、轉換為float32類別)"
   ]
  },
  {
   "cell_type": "code",
   "execution_count": 6,
   "metadata": {},
   "outputs": [],
   "source": [
    "x_train = x_train.astype('float32') / 255\n",
    "y_train = y_train.astype('float32')\n",
    "x_test = x_test.astype('float32') / 255\n",
    "y_test = y_test.astype('float32')"
   ]
  },
  {
   "cell_type": "markdown",
   "metadata": {},
   "source": [
    "擴展維度(:, 28, 28) -> (:, 28, 28, 1)與(:)->(:,1)"
   ]
  },
  {
   "cell_type": "code",
   "execution_count": 7,
   "metadata": {},
   "outputs": [
    {
     "name": "stdout",
     "output_type": "stream",
     "text": [
      "x_train\n",
      "shape:(60000, 28, 28, 1),data type:float32\n",
      "y_train\n",
      "shape:(60000, 1),data type:float32\n",
      "x_test\n",
      "shape:(10000, 28, 28, 1),data type:float32\n",
      "y_test\n",
      "shape:(10000, 1),data type:float32\n"
     ]
    }
   ],
   "source": [
    "x_train = np.expand_dims(x_train, -1)\n",
    "y_train = np.expand_dims(y_train, -1)\n",
    "x_test = np.expand_dims(x_test, -1)\n",
    "y_test = np.expand_dims(y_test, -1)\n",
    "\n",
    "#顯示shape與dtype\n",
    "print('x_train\\nshape:{},data type:{}'.format(x_train.shape, x_train.dtype))\n",
    "print('y_train\\nshape:{},data type:{}'.format(y_train.shape, y_train.dtype))\n",
    "print('x_test\\nshape:{},data type:{}'.format(x_test.shape, x_test.dtype))\n",
    "print('y_test\\nshape:{},data type:{}'.format(y_test.shape, y_test.dtype))"
   ]
  },
  {
   "cell_type": "markdown",
   "metadata": {},
   "source": [
    "### **訓練模型**\n",
    "`fit()`會保存一些紀錄(ex:epoch, loss, accuracy,...)，可以利用這些log進行圖形化分析。  \n",
    "args:  \n",
    "batch_size:一次丟多少檔案進去  \n",
    "epochs:model需要多少次疊代(1次疊代代表看完一整個training data)  \n",
    "validation系列:validation data，用來參考model是否overfitting。  \n",
    "更多資訊請參閱[Model training APIs](https://keras.io/api/models/model_training_apis/)"
   ]
  },
  {
   "cell_type": "code",
   "execution_count": 8,
   "metadata": {},
   "outputs": [
    {
     "name": "stdout",
     "output_type": "stream",
     "text": [
      "Epoch 1/10\n",
      "422/422 [==============================] - 2s 5ms/step - loss: 0.3718 - sparse_categorical_accuracy: 0.8849 - val_loss: 0.0789 - val_sparse_categorical_accuracy: 0.9783\n",
      "Epoch 2/10\n",
      "422/422 [==============================] - 2s 4ms/step - loss: 0.1118 - sparse_categorical_accuracy: 0.9659 - val_loss: 0.0560 - val_sparse_categorical_accuracy: 0.9858\n",
      "Epoch 3/10\n",
      "422/422 [==============================] - 2s 4ms/step - loss: 0.0868 - sparse_categorical_accuracy: 0.9724 - val_loss: 0.0514 - val_sparse_categorical_accuracy: 0.9872\n",
      "Epoch 4/10\n",
      "422/422 [==============================] - 2s 4ms/step - loss: 0.0717 - sparse_categorical_accuracy: 0.9781 - val_loss: 0.0421 - val_sparse_categorical_accuracy: 0.9880\n",
      "Epoch 5/10\n",
      "422/422 [==============================] - 2s 4ms/step - loss: 0.0625 - sparse_categorical_accuracy: 0.9803 - val_loss: 0.0419 - val_sparse_categorical_accuracy: 0.9883\n",
      "Epoch 6/10\n",
      "422/422 [==============================] - 2s 4ms/step - loss: 0.0558 - sparse_categorical_accuracy: 0.9823 - val_loss: 0.0348 - val_sparse_categorical_accuracy: 0.9907\n",
      "Epoch 7/10\n",
      "422/422 [==============================] - 2s 4ms/step - loss: 0.0538 - sparse_categorical_accuracy: 0.9834 - val_loss: 0.0331 - val_sparse_categorical_accuracy: 0.9910\n",
      "Epoch 8/10\n",
      "422/422 [==============================] - 2s 4ms/step - loss: 0.0488 - sparse_categorical_accuracy: 0.9849 - val_loss: 0.0316 - val_sparse_categorical_accuracy: 0.9917\n",
      "Epoch 9/10\n",
      "422/422 [==============================] - 2s 4ms/step - loss: 0.0454 - sparse_categorical_accuracy: 0.9860 - val_loss: 0.0297 - val_sparse_categorical_accuracy: 0.9922\n",
      "Epoch 10/10\n",
      "422/422 [==============================] - 2s 4ms/step - loss: 0.0443 - sparse_categorical_accuracy: 0.9860 - val_loss: 0.0306 - val_sparse_categorical_accuracy: 0.9920\n"
     ]
    }
   ],
   "source": [
    "history = model.fit(x_train, y_train, batch_size=128, epochs=10, validation_split=0.1)"
   ]
  },
  {
   "cell_type": "markdown",
   "metadata": {},
   "source": [
    "可以看到，經過10個epoch的訓練之後，在training data上準確度達到9成，val data上達到9成。  \n",
    "現在可以來驗證一下testing data"
   ]
  },
  {
   "cell_type": "code",
   "execution_count": 9,
   "metadata": {},
   "outputs": [
    {
     "name": "stdout",
     "output_type": "stream",
     "text": [
      "313/313 [==============================] - 1s 2ms/step - loss: 0.0284 - sparse_categorical_accuracy: 0.9912\n",
      "test loss: 0.028413323685526848\n",
      "test accuracy 0.9911999702453613\n"
     ]
    }
   ],
   "source": [
    "score = model.evaluate(x_test, y_test)\n",
    "print('test loss:', score[0])\n",
    "print('test accuracy', score[1])"
   ]
  },
  {
   "cell_type": "markdown",
   "metadata": {},
   "source": [
    "測試結果，在testing data上，準確度達到96.43%  \n",
    "**predict的用法**\n",
    "predict會直接輸出模型最後的結果，也就是10維，分別對應0~9，取最大值對應的那個類別就是預測類別。"
   ]
  },
  {
   "cell_type": "code",
   "execution_count": 10,
   "metadata": {},
   "outputs": [
    {
     "name": "stdout",
     "output_type": "stream",
     "text": [
      "前9筆預測結果:\n",
      " [7 2 1 0 4 1 4 9 5]\n",
      "前9筆實際值:\n",
      " [7 2 1 0 4 1 4 9 5]\n"
     ]
    }
   ],
   "source": [
    "#使用predict method\n",
    "result = model.predict(x_test[0:9])\n",
    "print('前9筆預測結果:\\n',np.argmax(result, axis=-1))\n",
    "print('前9筆實際值:\\n', y_test[0:9].reshape(-1,).astype('int32'))"
   ]
  },
  {
   "cell_type": "markdown",
   "metadata": {},
   "source": [
    "## **總結**  \n",
    "當要訓練一個model時候，定義好`輸入格式`與`輸出格式`，再將資料處理成`輸入格式`進行訓練。  \n",
    "Keras主要有兩種訓練方式`fit()`與`自定義訓練`，`fit()`的好處是有很多現成的method可以使用，`自訂義`需要自己組合。  \n",
    "但是在`Tensorflow 2.3`之後，可以創建`Model class`，透過修改`train_step` method來達到自訂義訓練以及使用`fit()` method的好處。"
   ]
  },
  {
   "cell_type": "code",
   "execution_count": null,
   "metadata": {},
   "outputs": [],
   "source": []
  }
 ],
 "metadata": {
  "kernelspec": {
   "display_name": "Python 3",
   "language": "python",
   "name": "python3"
  },
  "language_info": {
   "codemirror_mode": {
    "name": "ipython",
    "version": 3
   },
   "file_extension": ".py",
   "mimetype": "text/x-python",
   "name": "python",
   "nbconvert_exporter": "python",
   "pygments_lexer": "ipython3",
   "version": "3.7.4"
  }
 },
 "nbformat": 4,
 "nbformat_minor": 4
}
